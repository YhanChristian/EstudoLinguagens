{
 "cells": [
  {
   "cell_type": "markdown",
   "metadata": {},
   "source": [
    "# Automação Web e Busca de Informações com Python\n",
    "\n",
    "#### Desafio: \n",
    "\n",
    "Trabalhamos em uma importadora e o preço dos nossos produtos é vinculado a cotação de:\n",
    "- Dólar\n",
    "- Euro\n",
    "- Ouro\n",
    "\n",
    "Precisamos pegar na internet, de forma automática, a cotação desses 3 itens e saber quanto devemos cobrar pelos nossos produtos, considerando uma margem de contribuição que temos na nossa base de dados.\n",
    "\n",
    "Base de Dados: https://drive.google.com/drive/folders/1KmAdo593nD8J9QBaZxPOG1yxHZua4Rtv?usp=sharing\n",
    "\n",
    "Para isso, vamos criar uma automação web:\n",
    "\n",
    "- Usaremos o selenium\n",
    "- Importante: baixar o webdriver"
   ]
  },
  {
   "cell_type": "code",
   "execution_count": 33,
   "metadata": {},
   "outputs": [
    {
     "name": "stdout",
     "output_type": "stream",
     "text": [
      "Requirement already satisfied: selenium in c:\\programdata\\anaconda3\\lib\\site-packages (3.141.0)\n",
      "Requirement already satisfied: urllib3 in c:\\programdata\\anaconda3\\lib\\site-packages (from selenium) (1.26.4)\n"
     ]
    }
   ],
   "source": [
    "#O Webdriver é de acordo com seu navegador e versão do navegador (Estou utilizando a versão do Google Chrome 14)\n",
    "\n",
    "#Primeira coisa que vamos fazer é instalar e importar o Selenium\n",
    "\n",
    "!pip install selenium\n",
    "\n",
    "from selenium import webdriver\n",
    "from selenium.webdriver.common.keys import Keys"
   ]
  },
  {
   "cell_type": "markdown",
   "metadata": {},
   "source": [
    "### Agora vamos atualiza a nossa base de preços com as novas cotações"
   ]
  },
  {
   "cell_type": "markdown",
   "metadata": {},
   "source": [
    "- Importando a base de dados"
   ]
  },
  {
   "cell_type": "code",
   "execution_count": 34,
   "metadata": {
    "scrolled": true
   },
   "outputs": [
    {
     "data": {
      "text/html": [
       "<div>\n",
       "<style scoped>\n",
       "    .dataframe tbody tr th:only-of-type {\n",
       "        vertical-align: middle;\n",
       "    }\n",
       "\n",
       "    .dataframe tbody tr th {\n",
       "        vertical-align: top;\n",
       "    }\n",
       "\n",
       "    .dataframe thead th {\n",
       "        text-align: right;\n",
       "    }\n",
       "</style>\n",
       "<table border=\"1\" class=\"dataframe\">\n",
       "  <thead>\n",
       "    <tr style=\"text-align: right;\">\n",
       "      <th></th>\n",
       "      <th>Produtos</th>\n",
       "      <th>Preço Base Original</th>\n",
       "      <th>Moeda</th>\n",
       "      <th>Cotação</th>\n",
       "      <th>Preço Base Reais</th>\n",
       "      <th>Margem</th>\n",
       "      <th>Preço Final</th>\n",
       "    </tr>\n",
       "  </thead>\n",
       "  <tbody>\n",
       "    <tr>\n",
       "      <th>0</th>\n",
       "      <td>Câmera Canon</td>\n",
       "      <td>999.99</td>\n",
       "      <td>Dólar</td>\n",
       "      <td>5</td>\n",
       "      <td>4999.95</td>\n",
       "      <td>1.40</td>\n",
       "      <td>6999.930</td>\n",
       "    </tr>\n",
       "    <tr>\n",
       "      <th>1</th>\n",
       "      <td>Carro Renault</td>\n",
       "      <td>4500.00</td>\n",
       "      <td>Euro</td>\n",
       "      <td>6</td>\n",
       "      <td>27000.00</td>\n",
       "      <td>2.00</td>\n",
       "      <td>54000.000</td>\n",
       "    </tr>\n",
       "    <tr>\n",
       "      <th>2</th>\n",
       "      <td>Notebook Dell</td>\n",
       "      <td>899.99</td>\n",
       "      <td>Dólar</td>\n",
       "      <td>5</td>\n",
       "      <td>4499.95</td>\n",
       "      <td>1.70</td>\n",
       "      <td>7649.915</td>\n",
       "    </tr>\n",
       "    <tr>\n",
       "      <th>3</th>\n",
       "      <td>IPhone</td>\n",
       "      <td>799.00</td>\n",
       "      <td>Dólar</td>\n",
       "      <td>5</td>\n",
       "      <td>3995.00</td>\n",
       "      <td>1.70</td>\n",
       "      <td>6791.500</td>\n",
       "    </tr>\n",
       "    <tr>\n",
       "      <th>4</th>\n",
       "      <td>Carro Fiat</td>\n",
       "      <td>3000.00</td>\n",
       "      <td>Euro</td>\n",
       "      <td>6</td>\n",
       "      <td>18000.00</td>\n",
       "      <td>1.90</td>\n",
       "      <td>34200.000</td>\n",
       "    </tr>\n",
       "    <tr>\n",
       "      <th>5</th>\n",
       "      <td>Celular Xiaomi</td>\n",
       "      <td>480.48</td>\n",
       "      <td>Dólar</td>\n",
       "      <td>5</td>\n",
       "      <td>2402.40</td>\n",
       "      <td>2.00</td>\n",
       "      <td>4804.800</td>\n",
       "    </tr>\n",
       "    <tr>\n",
       "      <th>6</th>\n",
       "      <td>Joia 20g</td>\n",
       "      <td>20.00</td>\n",
       "      <td>Ouro</td>\n",
       "      <td>350</td>\n",
       "      <td>7000.00</td>\n",
       "      <td>1.15</td>\n",
       "      <td>8050.000</td>\n",
       "    </tr>\n",
       "  </tbody>\n",
       "</table>\n",
       "</div>"
      ],
      "text/plain": [
       "         Produtos  Preço Base Original  Moeda  Cotação  Preço Base Reais  \\\n",
       "0    Câmera Canon               999.99  Dólar        5           4999.95   \n",
       "1   Carro Renault              4500.00   Euro        6          27000.00   \n",
       "2   Notebook Dell               899.99  Dólar        5           4499.95   \n",
       "3          IPhone               799.00  Dólar        5           3995.00   \n",
       "4      Carro Fiat              3000.00   Euro        6          18000.00   \n",
       "5  Celular Xiaomi               480.48  Dólar        5           2402.40   \n",
       "6        Joia 20g                20.00   Ouro      350           7000.00   \n",
       "\n",
       "   Margem  Preço Final  \n",
       "0    1.40     6999.930  \n",
       "1    2.00    54000.000  \n",
       "2    1.70     7649.915  \n",
       "3    1.70     6791.500  \n",
       "4    1.90    34200.000  \n",
       "5    2.00     4804.800  \n",
       "6    1.15     8050.000  "
      ]
     },
     "metadata": {},
     "output_type": "display_data"
    },
    {
     "name": "stdout",
     "output_type": "stream",
     "text": [
      "<class 'pandas.core.frame.DataFrame'>\n",
      "RangeIndex: 7 entries, 0 to 6\n",
      "Data columns (total 7 columns):\n",
      " #   Column               Non-Null Count  Dtype  \n",
      "---  ------               --------------  -----  \n",
      " 0   Produtos             7 non-null      object \n",
      " 1   Preço Base Original  7 non-null      float64\n",
      " 2   Moeda                7 non-null      object \n",
      " 3   Cotação              7 non-null      int64  \n",
      " 4   Preço Base Reais     7 non-null      float64\n",
      " 5   Margem               7 non-null      float64\n",
      " 6   Preço Final          7 non-null      float64\n",
      "dtypes: float64(4), int64(1), object(2)\n",
      "memory usage: 520.0+ bytes\n",
      "None\n"
     ]
    }
   ],
   "source": [
    "#Para importar a base de dados vamos utilizar o Pandas\n",
    "\n",
    "import pandas as pd \n",
    "\n",
    "#Criar dataframe e ler arquivo \n",
    "\n",
    "df = pd.read_excel('Produtos.xlsx')\n",
    "\n",
    "#Exibir dados\n",
    "\n",
    "display(df)\n",
    "\n",
    "#Analisando o tipo de dado das colunas \n",
    "print(df.info())"
   ]
  },
  {
   "cell_type": "markdown",
   "metadata": {},
   "source": [
    "- Atualizando os preços e o cálculo do Preço Final"
   ]
  },
  {
   "cell_type": "code",
   "execution_count": 35,
   "metadata": {},
   "outputs": [
    {
     "name": "stdout",
     "output_type": "stream",
     "text": [
      "Cotação Dólar R$: 5.511829\n",
      "Cotação Dólar R$: 6.377323948000001\n",
      "Cotação Ouro(g) R$: 311,22\n"
     ]
    }
   ],
   "source": [
    "#O arquivo.exe do webdriver deve estar na mesma pasta do projeto (Agora vamos criar o webdriver)\n",
    "\n",
    "nav = webdriver.Chrome()\n",
    "\n",
    "#Acessando Google e obtendo cotação do dólar\n",
    "\n",
    "nav.get('https://www.google.com/')\n",
    "nav.find_element_by_xpath('/html/body/div[1]/div[3]/form/div[1]/div[1]/div[1]/div/div[2]/input').send_keys('cotação dólar')\n",
    "nav.find_element_by_xpath('/html/body/div[1]/div[3]/form/div[1]/div[1]/div[1]/div/div[2]/input').send_keys(Keys.ENTER)\n",
    "cotacao_dolar = nav.find_element_by_xpath(\n",
    "    '/html/body/div[7]/div/div[9]/div[1]/div/div[2]/div[2]/div/div/div[1]/div/div/div/div/div[1]/div/div[1]/div[1]/div[2]/span[1]').get_attribute('data-value')\n",
    "print(\"Cotação Dólar R$:\", cotacao_dolar)\n",
    "\n",
    "#Acessando o Google e obtendo cotação do euro\n",
    "\n",
    "nav.get('https://www.google.com/')\n",
    "nav.find_element_by_xpath('/html/body/div[1]/div[3]/form/div[1]/div[1]/div[1]/div/div[2]/input').send_keys('cotação euro')\n",
    "nav.find_element_by_xpath('/html/body/div[1]/div[3]/form/div[1]/div[1]/div[1]/div/div[2]/input').send_keys(Keys.ENTER)\n",
    "cotacao_euro = nav.find_element_by_xpath(\n",
    "    '/html/body/div[7]/div/div[9]/div[1]/div/div[2]/div[2]/div/div/div[1]/div/div/div/div/div[1]/div/div[1]/div[1]/div[2]/span[1]').get_attribute('data-value')\n",
    "print(\"Cotação Dólar R$:\", cotacao_euro)\n",
    "\n",
    "#Acessando site para busca da cotação atual do Ouro\n",
    "\n",
    "nav.get('https://www.melhorcambio.com/ouro-hoje')\n",
    "cotacao_ouro = nav.find_element_by_xpath('/html/body/div[6]/div[1]/div/div/input[2]').get_attribute('value')\n",
    "print(\"Cotação Ouro(g) R$:\", cotacao_ouro)\n",
    "\n",
    "#Fecha navegador\n",
    "nav.quit()"
   ]
  },
  {
   "cell_type": "code",
   "execution_count": 36,
   "metadata": {},
   "outputs": [
    {
     "name": "stdout",
     "output_type": "stream",
     "text": [
      "Cotação Dólar R$: 5.511829\n",
      "Cotação Dólar R$: 6.377323948000001\n",
      "Cotação Ouro(g) R$: 311.22\n"
     ]
    }
   ],
   "source": [
    "#Agora que obtemos as cotações vamos substituira virgula por ponto no valor do ouro e converter os dados para float\n",
    "\n",
    "cotacao_ouro = cotacao_ouro.replace(',', '.')\n",
    "\n",
    "cotacao_dolar = float(cotacao_dolar)\n",
    "cotacao_euro = float(cotacao_euro)\n",
    "cotacao_ouro = float(cotacao_ouro)\n",
    "\n",
    "print(\"Cotação Dólar R$:\", cotacao_dolar)\n",
    "print(\"Cotação Dólar R$:\", cotacao_euro)\n",
    "print(\"Cotação Ouro(g) R$:\", cotacao_ouro)"
   ]
  },
  {
   "cell_type": "markdown",
   "metadata": {},
   "source": [
    "### Agora vamos exportar a nova base de preços atualizada"
   ]
  },
  {
   "cell_type": "code",
   "execution_count": 37,
   "metadata": {},
   "outputs": [
    {
     "data": {
      "text/html": [
       "<div>\n",
       "<style scoped>\n",
       "    .dataframe tbody tr th:only-of-type {\n",
       "        vertical-align: middle;\n",
       "    }\n",
       "\n",
       "    .dataframe tbody tr th {\n",
       "        vertical-align: top;\n",
       "    }\n",
       "\n",
       "    .dataframe thead th {\n",
       "        text-align: right;\n",
       "    }\n",
       "</style>\n",
       "<table border=\"1\" class=\"dataframe\">\n",
       "  <thead>\n",
       "    <tr style=\"text-align: right;\">\n",
       "      <th></th>\n",
       "      <th>Produtos</th>\n",
       "      <th>Preço Base Original</th>\n",
       "      <th>Moeda</th>\n",
       "      <th>Cotação</th>\n",
       "      <th>Preço Base Reais</th>\n",
       "      <th>Margem</th>\n",
       "      <th>Preço Final</th>\n",
       "    </tr>\n",
       "  </thead>\n",
       "  <tbody>\n",
       "    <tr>\n",
       "      <th>0</th>\n",
       "      <td>Câmera Canon</td>\n",
       "      <td>999.99</td>\n",
       "      <td>Dólar</td>\n",
       "      <td>5.511829</td>\n",
       "      <td>5511.773882</td>\n",
       "      <td>1.40</td>\n",
       "      <td>7716.483434</td>\n",
       "    </tr>\n",
       "    <tr>\n",
       "      <th>1</th>\n",
       "      <td>Carro Renault</td>\n",
       "      <td>4500.00</td>\n",
       "      <td>Euro</td>\n",
       "      <td>6.377324</td>\n",
       "      <td>28697.957766</td>\n",
       "      <td>2.00</td>\n",
       "      <td>57395.915532</td>\n",
       "    </tr>\n",
       "    <tr>\n",
       "      <th>2</th>\n",
       "      <td>Notebook Dell</td>\n",
       "      <td>899.99</td>\n",
       "      <td>Dólar</td>\n",
       "      <td>5.511829</td>\n",
       "      <td>4960.590982</td>\n",
       "      <td>1.70</td>\n",
       "      <td>8433.004669</td>\n",
       "    </tr>\n",
       "    <tr>\n",
       "      <th>3</th>\n",
       "      <td>IPhone</td>\n",
       "      <td>799.00</td>\n",
       "      <td>Dólar</td>\n",
       "      <td>5.511829</td>\n",
       "      <td>4403.951371</td>\n",
       "      <td>1.70</td>\n",
       "      <td>7486.717331</td>\n",
       "    </tr>\n",
       "    <tr>\n",
       "      <th>4</th>\n",
       "      <td>Carro Fiat</td>\n",
       "      <td>3000.00</td>\n",
       "      <td>Euro</td>\n",
       "      <td>6.377324</td>\n",
       "      <td>19131.971844</td>\n",
       "      <td>1.90</td>\n",
       "      <td>36350.746504</td>\n",
       "    </tr>\n",
       "    <tr>\n",
       "      <th>5</th>\n",
       "      <td>Celular Xiaomi</td>\n",
       "      <td>480.48</td>\n",
       "      <td>Dólar</td>\n",
       "      <td>5.511829</td>\n",
       "      <td>2648.323598</td>\n",
       "      <td>2.00</td>\n",
       "      <td>5296.647196</td>\n",
       "    </tr>\n",
       "    <tr>\n",
       "      <th>6</th>\n",
       "      <td>Joia 20g</td>\n",
       "      <td>20.00</td>\n",
       "      <td>Ouro</td>\n",
       "      <td>311.220000</td>\n",
       "      <td>6224.400000</td>\n",
       "      <td>1.15</td>\n",
       "      <td>7158.060000</td>\n",
       "    </tr>\n",
       "  </tbody>\n",
       "</table>\n",
       "</div>"
      ],
      "text/plain": [
       "         Produtos  Preço Base Original  Moeda     Cotação  Preço Base Reais  \\\n",
       "0    Câmera Canon               999.99  Dólar    5.511829       5511.773882   \n",
       "1   Carro Renault              4500.00   Euro    6.377324      28697.957766   \n",
       "2   Notebook Dell               899.99  Dólar    5.511829       4960.590982   \n",
       "3          IPhone               799.00  Dólar    5.511829       4403.951371   \n",
       "4      Carro Fiat              3000.00   Euro    6.377324      19131.971844   \n",
       "5  Celular Xiaomi               480.48  Dólar    5.511829       2648.323598   \n",
       "6        Joia 20g                20.00   Ouro  311.220000       6224.400000   \n",
       "\n",
       "   Margem   Preço Final  \n",
       "0    1.40   7716.483434  \n",
       "1    2.00  57395.915532  \n",
       "2    1.70   8433.004669  \n",
       "3    1.70   7486.717331  \n",
       "4    1.90  36350.746504  \n",
       "5    2.00   5296.647196  \n",
       "6    1.15   7158.060000  "
      ]
     },
     "metadata": {},
     "output_type": "display_data"
    }
   ],
   "source": [
    "df.loc[df['Moeda']=='Dólar', 'Cotação'] = cotacao_dolar\n",
    "df.loc[df['Moeda']=='Euro', 'Cotação'] = cotacao_euro\n",
    "df.loc[df['Moeda']=='Ouro', 'Cotação'] = cotacao_ouro\n",
    "\n",
    "#Cálculo de novos valores e exibição de dados atualizados\n",
    "\n",
    "df['Preço Base Reais'] = df['Cotação'] * df['Preço Base Original']\n",
    "df['Preço Final'] = df['Preço Base Reais'] * df['Margem']\n",
    "display(df)"
   ]
  },
  {
   "cell_type": "code",
   "execution_count": 38,
   "metadata": {},
   "outputs": [
    {
     "name": "stdout",
     "output_type": "stream",
     "text": [
      "Dados exportados com sucesso!\n"
     ]
    }
   ],
   "source": [
    "# Agora vamos exportar a nova base de dados (podemos substituir o arquivo), entretanto irei gerar um novo\n",
    "#Parametro index false, a coluna index n será exportada\n",
    "\n",
    "df.to_excel(\"Produtos Atualizado.xlsx\", index=False) \n",
    "print(\"Dados exportados com sucesso!\")"
   ]
  }
 ],
 "metadata": {
  "kernelspec": {
   "display_name": "Python 3",
   "language": "python",
   "name": "python3"
  },
  "language_info": {
   "codemirror_mode": {
    "name": "ipython",
    "version": 3
   },
   "file_extension": ".py",
   "mimetype": "text/x-python",
   "name": "python",
   "nbconvert_exporter": "python",
   "pygments_lexer": "ipython3",
   "version": "3.8.8"
  }
 },
 "nbformat": 4,
 "nbformat_minor": 4
}
